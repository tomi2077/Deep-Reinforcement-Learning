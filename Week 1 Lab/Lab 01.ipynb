{
 "cells": [
  {
   "cell_type": "markdown",
   "metadata": {},
   "source": [
    "# Lab 01 - Exit the dungeon!\n",
    "\n",
    "In this first lab, we will create by hand our first Reinforcement Learning environment.\n",
    "A lot of agents will be harmed in the process of solving the lab.\n",
    "\n",
    "## The environment\n",
    "\n",
    "The environment is a NxN array of integers. \n",
    "Each cell of this environment can have the following values:\n",
    "- 0 : empty cell\n",
    "- 1 : obstacle, non-traversable\n",
    "- 2 : lava\n",
    "- 3 : exit\n",
    "\n",
    "All border cells are obstacles.\n",
    "Upon initialization, the environment has:\n",
    "- N/2 obstacles placed randomly in the maze.\n",
    "- N/2 lava cells placed randomly in the cell.\n",
    "\n",
    "## The game\n",
    "\n",
    "The agent starts in a random empty cell, and has to reach the exit.\n",
    "The exit is randomly positioned in an other empty cell.\n",
    "\n",
    "At each timestep:\n",
    "- the agent decides on an action (move up, left, right or down)\n",
    "- the action is sent to the environment\n",
    "- the environment sends back observations, rewards and a boolean that indicates whether the environment terminated.\n",
    "\n",
    "The environment terminates if the agent reaches the exit, or if the environement reaches a time limit of N^2 timesteps.\n",
    "\n",
    "## Observations\n",
    "\n",
    "The agent receives a dictionary of observations:\n",
    "- target: relative coordinates of the exit \n",
    "- proximity: a 3x3 array that encodes for the value of the cells around the agent.\n",
    "\n",
    "## Rewards\n",
    "\n",
    "When acting, an agent receives a reward depending on the cell it ends up on:\n",
    "- if the agent moves towards an obstacle, it gets a reward of -5 and stays at its original position\n",
    "- if the agent is on a lava cell after its action, it receives a reward of -20\n",
    "- at each timestep, the agent receives an additional reward of -1\n",
    "- when the agent reaches the goal, it receives a reward of N**2\n"
   ]
  },
  {
   "cell_type": "code",
   "execution_count": 998,
   "metadata": {},
   "outputs": [],
   "source": [
    "import numpy as np\n",
    "import pandas as pd\n",
    "import matplotlib.pyplot as plt\n",
    "from random import choice\n",
    "from numpy import mean, var\n",
    "import random\n",
    "%matplotlib inline\n",
    "plt.style.use('ggplot')"
   ]
  },
  {
   "cell_type": "markdown",
   "metadata": {},
   "source": [
    "# Part 1 - Defining the environment.\n",
    "\n",
    "We will define the environment as a class.\n",
    "We are providing pseudo code which is incomplete and probably not completely error-free.\n",
    "\n",
    "You have to fill the blanks.\n",
    "We advise you to look at the pseudo-code for Part 2 and 3 to have an idea of how things work together.\n",
    "\n",
    "In order to make sure that your environment runs as intended, you will create a display function."
   ]
  },
  {
   "cell_type": "code",
   "execution_count": 1021,
   "metadata": {},
   "outputs": [],
   "source": [
    "class Dungeon:\n",
    "    \n",
    "    def __init__(self, N):\n",
    "        \n",
    "        # Numpy array that holds the information about the environment\n",
    "        self.dungeon = self.make_dungeon(N)\n",
    "        \n",
    "        # position of the agent and exit will be decided by resetting the environment.\n",
    "        self.position_agent = None\n",
    "        self.position_exit = None\n",
    "        \n",
    "        self.time_elapsed = 0\n",
    "        self.time_limit = N**2\n",
    "        \n",
    "        self.reward = 0\n",
    "        self.done = False\n",
    "        \n",
    "        # Allows me to call N elsewhere\n",
    "        self.N = N\n",
    "   \n",
    "    def make_dungeon(self, N):\n",
    "        # Create empty array defining dungeon area\n",
    "        dung_array = np.zeros((N,N))\n",
    "        \n",
    "        # Making dungeon borders = 1\n",
    "        dung_array[:,[0,-1]] = dung_array[[0,-1]] = 1\n",
    "        \n",
    "        # Random (x, y) coordinates for obstacles\n",
    "        obs_idx_x = np.random.randint(1, dung_array.shape[0]-1, N)\n",
    "        obs_idx_y = np.random.randint(1, dung_array.shape[1]-1, N)\n",
    "\n",
    "        # Assigning obstacles\n",
    "        dung_array[obs_idx_x[0:int(N/2)], obs_idx_y[0:int(N/2)]] = 1\n",
    "        # Assigning lava\n",
    "        dung_array[obs_idx_x[int(N/2):N], obs_idx_y[int(N/2):N]] = 2\n",
    "        \n",
    "        return dung_array\n",
    "    \n",
    "    def agent_and_exit_starting_location(self, dungeon):\n",
    "        empty_cells = np.argwhere(dungeon == 0)\n",
    "        \n",
    "        # Selecting a random one of those empty cells, then choosing similar for exit, not equal to agent location\n",
    "        empty_rand_idx_agent = np.random.randint(0, len(empty_cells)-1, 1)\n",
    "        empty_rand_idx_exit = choice([i for i in range(0, len(empty_cells)-1) if i != empty_rand_idx_agent[0]])\n",
    "\n",
    "        # Returning the starting location of the agent and the exit\n",
    "        agent_start = [empty_cells[empty_rand_idx_agent[0]][0], empty_cells[empty_rand_idx_agent[0]][1]]\n",
    "        exit_start = [empty_cells[empty_rand_idx_exit][0], empty_cells[empty_rand_idx_exit][1]]\n",
    "              \n",
    "        return agent_start, exit_start\n",
    "    \n",
    "    def get_observations(self, agent, exit, dungeon):\n",
    "        observation_dict = {}\n",
    "        \n",
    "        # Returning the values in the cells surrounding the agent\n",
    "        three_by_three = dungeon[agent[0]-1: agent[0]+2, agent[1]-1: agent[1]+2]\n",
    "        \n",
    "        observation_dict['observed'] = three_by_three\n",
    "        observation_dict['exit_loc'] = exit\n",
    "        \n",
    "        return observation_dict\n",
    "\n",
    "    def step(self, action):\n",
    "        \n",
    "        # action is 'up', 'down', 'left', or 'right' \n",
    "        agent_move = action\n",
    "\n",
    "        # modify the position of the agent\n",
    "        if agent_move == 'up':\n",
    "            self.position_agent[0] = self.position_agent[0]-1\n",
    "        if agent_move == 'down':\n",
    "            self.position_agent[0] = self.position_agent[0]+1\n",
    "        if agent_move == 'left':\n",
    "            self.position_agent[1] = self.position_agent[1]-1\n",
    "        if agent_move == 'right':\n",
    "            self.position_agent[1] = self.position_agent[1]+1\n",
    "        \n",
    "        # calculate total reward\n",
    "        if self.dungeon[self.position_agent[0], self.position_agent[1]] == 1:\n",
    "            # Removes 5 from total reward, plus 1 for the step taken \n",
    "            self.reward -= 6\n",
    "            # Resets movement, back to where agent was before\n",
    "            if agent_move == 'up':\n",
    "                self.position_agent[0] = self.position_agent[0]+1\n",
    "            elif agent_move == 'down':\n",
    "                self.position_agent[0] = self.position_agent[0]-1\n",
    "            elif agent_move == 'left':\n",
    "                self.position_agent[1] = self.position_agent[1]+1\n",
    "            elif agent_move == 'right':\n",
    "                self.position_agent[1] = self.position_agent[1]-1\n",
    "\n",
    "        elif self.dungeon[self.position_agent[0], self.position_agent[1]] == 2:\n",
    "            # Removed 20 for lava, plus 1 for the step taken\n",
    "            self.reward -= 21\n",
    "\n",
    "        elif self.dungeon[self.position_agent[0], self.position_agent[1]] == 3:\n",
    "            # N**2 for finding the exit, minus 1 for the step taken\n",
    "            self.reward += ((self.N**2)-1)\n",
    "            #print(\"Congratulations - You have found the exit! Your score was: %d\" % self.reward)\n",
    "            self.done = True\n",
    "\n",
    "        elif self.dungeon[self.position_agent[0], self.position_agent[1]] == 0:\n",
    "            # Just -1 for the step taken\n",
    "            self.reward -= 1\n",
    "        \n",
    "        elif self.dungeon[self.position_agent[0], self.position_agent[1]] == 4:\n",
    "            # Just -1 for the step taken\n",
    "            self.reward -= 1\n",
    "        \n",
    "        # calculate observations\n",
    "        \n",
    "        self.observations = self.get_observations(self.position_agent, self.position_exit, self.dungeon)\n",
    "        \n",
    "        # update time\n",
    "        self.time_elapsed += 1\n",
    "        \n",
    "        # verify secondary termination condition\n",
    "        if self.time_elapsed == self.time_limit:\n",
    "            #print(\"Gameover - Out of Moves. Your score was: %d\" % self.reward)\n",
    "            self.done = True\n",
    "        \n",
    "        # Mark the new position of the agent with a '4' (useful for debugging/visualizing)\n",
    "        self.dungeon[self.position_agent[0], self.position_agent[1]] = 4\n",
    "        \n",
    "        return self.observations, self.reward, self.done\n",
    "    \n",
    "    def display(self):\n",
    "        \n",
    "        # prints the environment\n",
    "        print(self.dungeon)\n",
    "        \n",
    "    def reset(self):\n",
    "        \"\"\"\n",
    "        This function resets the environment to its original state (time = 0).\n",
    "        Then it places the agent and exit at new random locations.\n",
    "        \n",
    "        It is common practice to return the observations, \n",
    "        so that the agent can decide on the first action right after the resetting of the environment.\n",
    "        \n",
    "        \"\"\"\n",
    "        # Resetting variables to zero:\n",
    "        self.time_elapsed = 0\n",
    "        self.time_limit = self.N**2\n",
    "        self.reward = 0\n",
    "        self.done = False\n",
    "        \n",
    "        # Make new dungeon\n",
    "        self.dungeon = self.make_dungeon(self.N)\n",
    "        \n",
    "        # position of the agent is a numpy array\n",
    "        self.position_agent, self.position_exit = self.agent_and_exit_starting_location(self.dungeon)\n",
    "        \n",
    "        # Mark the exit location with '3'\n",
    "        self.dungeon[self.position_exit[0], self.position_exit[1]] = 3\n",
    "        \n",
    "        # Mark the agent location with '4'\n",
    "        self.dungeon[self.position_agent[0], self.position_agent[1]] = 4\n",
    "        \n",
    "        # Calculate observations\n",
    "        self.observations = self.get_observations(self.position_agent, self.position_exit, self.dungeon)\n",
    "        \n",
    "    \n",
    "        return self.observations, self.time_elapsed"
   ]
  },
  {
   "cell_type": "code",
   "execution_count": 312,
   "metadata": {},
   "outputs": [
    {
     "name": "stdout",
     "output_type": "stream",
     "text": [
      "[3, 3]\n",
      "[[1. 1. 1. 1. 1. 1. 1. 1. 1. 1.]\n",
      " [1. 0. 0. 0. 0. 0. 0. 0. 0. 1.]\n",
      " [1. 1. 0. 1. 0. 0. 0. 0. 0. 1.]\n",
      " [1. 0. 0. 4. 0. 2. 0. 0. 2. 1.]\n",
      " [1. 0. 0. 2. 0. 0. 0. 0. 0. 1.]\n",
      " [1. 0. 0. 0. 1. 0. 0. 2. 0. 1.]\n",
      " [1. 0. 0. 0. 1. 0. 0. 0. 1. 1.]\n",
      " [1. 0. 0. 0. 0. 0. 2. 0. 0. 1.]\n",
      " [1. 0. 0. 0. 0. 0. 0. 3. 0. 1.]\n",
      " [1. 1. 1. 1. 1. 1. 1. 1. 1. 1.]]\n"
     ]
    }
   ],
   "source": [
    "dungeon = Dungeon(10)\n",
    "dungeon.reset()\n",
    "\n",
    "print(dungeon.position_agent)\n",
    "dungeon.display()\n",
    "\n",
    "obs, reward, done = dungeon.step('right')\n"
   ]
  },
  {
   "cell_type": "markdown",
   "metadata": {},
   "source": [
    "# Part 2 - Defining a policy\n",
    "\n",
    "A policy tells the agent how to act depending on its current observation and internal beliefs.\n",
    "\n",
    "As a first simple case, we will define policy as a function that maps observations to actions.\n",
    "\n",
    "As your agent is stupid and doesn't have any way of learning what to do, in this first lab we will write by hand the policy.\n",
    "Try to come up with a strategy to terminate the game with the maximum reward.\n",
    "\n",
    "We advise you to start with a very simple policy, then maybe try a random policy, and finally an 'intelligent' policy.\n"
   ]
  },
  {
   "cell_type": "code",
   "execution_count": 1039,
   "metadata": {},
   "outputs": [],
   "source": [
    "def basic_policy(observation, action_lst):\n",
    "    # Checks observations and then decides to get to either the 0 or 3 square within observation area\n",
    "    \n",
    "    possible_routes = 0\n",
    "    exit_route_action = []\n",
    "    possible_actions = []\n",
    "    lava_action = []\n",
    "\n",
    "    for a, b, c in zip([0, 1, 1, 2],[1, 2, 0, 1],['up', 'right', 'left', 'down']):\n",
    "        # Calculates cost caused by obstacle in moving by using specified action\n",
    "        cost = dungeon.observations['observed'][a][b]\n",
    "        if cost == 0:\n",
    "            possible_routes += 1\n",
    "            possible_actions.append(c)\n",
    "        if cost == 3:\n",
    "            exit_route_action.append(c)\n",
    "        if cost == 4:\n",
    "            possible_routes += 1\n",
    "            possible_actions.append(c)\n",
    "        if cost == 2:\n",
    "            lava_action.append(c)\n",
    "        \n",
    "    # checks if exit route list is empty, if not then chooses that route\n",
    "    if not exit_route_action:\n",
    "        if len(possible_actions)>0:\n",
    "            # Chooses viable option randomly to avoid going back and forth\n",
    "            dir_choice = np.random.randint(0, possible_routes, 1)\n",
    "            action = possible_actions[int(dir_choice)]\n",
    "        else:\n",
    "            dir_choice = np.random.randint(0, len(lava_action), 1)\n",
    "            action = lava_action[int(dir_choice)]\n",
    "    else:\n",
    "        action = exit_route_action[0]\n",
    "    \n",
    "    return action\n",
    "\n",
    "\n",
    "def random_policy(observation, action_lst):\n",
    "    possible_actions = ['up', 'right', 'left', 'down']\n",
    "    rand_choice = np.random.randint(0, len(possible_actions)-1, 1)\n",
    "    action = possible_actions[int(rand_choice)]\n",
    "    \n",
    "    return action\n",
    "    \n",
    "    \n",
    "def intelligent_policy(observation, action_lst):\n",
    "    \n",
    "    dist_costs = []\n",
    "    obstacle_costs = []\n",
    "    optionality_costs = []\n",
    "    for a, b, c in zip([-1, 0, 0, 1],[0, 1, -1, 0],['up', 'right', 'left', 'down']):\n",
    "\n",
    "        # Calculate distance 'cost' from position of movement option to exit\n",
    "        pos = [dungeon.position_agent[0]+a, dungeon.position_agent[1]+b]\n",
    "        dist_vert = pos[0] - dungeon.observations['exit_loc'][0]\n",
    "        dist_hor = pos[1] - dungeon.observations['exit_loc'][1]\n",
    "        pythag_tot_dist =  dist_vert**2 + dist_hor**2\n",
    "        dist_costs.append(pythag_tot_dist)\n",
    "\n",
    "        # Calculate obstacle cost of moving in specific direction\n",
    "        pos_agent_obs = [1,1] # the position of the agent within the observations matrix\n",
    "        pos_agent_plus_step = [pos_agent_obs[0]+a, pos_agent_obs[1]+b]\n",
    "        cost = dungeon.observations['observed'][pos_agent_plus_step[0],pos_agent_plus_step[1]]\n",
    "\n",
    "        def calculate_obs_cost(cost):\n",
    "            if cost == 0:\n",
    "                cost = cost\n",
    "            elif cost == 1:\n",
    "                cost = 30\n",
    "            elif cost == 2:\n",
    "                cost = 20\n",
    "            elif cost == 3:\n",
    "                cost = cost-50\n",
    "            elif cost == 4:\n",
    "                cost = 5\n",
    "            return cost\n",
    "\n",
    "        obstacle_costs.append(calculate_obs_cost(cost))\n",
    "\n",
    "        # Calculates the costs of adjacent cells to the potential new cell\n",
    "        # If move is 'up' or 'down', need to check left and right to see the observed costs\n",
    "        total_next_options_cost = 0\n",
    "\n",
    "        if (c == 'up') | (c == 'down'):\n",
    "            left_cost = dungeon.observations['observed'][pos_agent_plus_step[0],pos_agent_plus_step[1]-1]\n",
    "            right_cost = dungeon.observations['observed'][pos_agent_plus_step[0],pos_agent_plus_step[1]+1]\n",
    "            total_next_options_cost =+ (calculate_obs_cost(left_cost) + calculate_obs_cost(right_cost)) / 30\n",
    "\n",
    "        elif (c == 'right') | (c == 'left'):\n",
    "            above_cost = dungeon.observations['observed'][pos_agent_plus_step[0]-1,pos_agent_plus_step[1]]\n",
    "            below_cost = dungeon.observations['observed'][pos_agent_plus_step[0]+1,pos_agent_plus_step[1]]\n",
    "            total_next_options_cost =+ (calculate_obs_cost(above_cost) + calculate_obs_cost(below_cost)) / 30\n",
    "\n",
    "        optionality_costs.append(total_next_options_cost)\n",
    "\n",
    "    # Summing all calculated costs\n",
    "    total_costs = []\n",
    "    mvmt_options = ['up', 'right', 'left', 'down']\n",
    "    for x, y, z in zip(dist_costs, obstacle_costs, optionality_costs):\n",
    "        total_costs_assoc_move = x + y + z\n",
    "        total_costs.append(total_costs_assoc_move)\n",
    "\n",
    "    # Implementing a check to stop it repeating steps, removes if repeated twice already from mvmt options list:\n",
    "    last_four_moves = action_lst[-4:]\n",
    "    if len(last_four_moves) == 4:\n",
    "        if (last_four_moves[-1:] == last_four_moves[-3:]) & (last_four_moves[-2:] == last_four_moves[-4:]):\n",
    "            remove1 = last_four_moves[-1:][0]\n",
    "            remove2 = last_four_moves[-2:][0]\n",
    "            mvmt_options = [i for i in mvmt_options if i not in (remove1, remove2)]\n",
    "            r1_index = mvmt_options.index(remove1)\n",
    "            r2_index = mvmt_options.index(remove2)\n",
    "            total_costs.pop(r1_index)\n",
    "            total_costs.pop(r2_index)\n",
    "            \n",
    "    last_seven_moves = action_lst[-8:]\n",
    "    if len(last_seven_moves) == 8:\n",
    "        for j, k in zip(mvmt_options, total_costs):\n",
    "            if last_seven_moves.count(j) >= 4:\n",
    "                mvmt_options.remove(j)\n",
    "                total_costs.remove(k)\n",
    "        \n",
    "    \n",
    "    # Returning the index of the minimum total cost and then choosing the action that's associated with it    \n",
    "    min_cost_idx = total_costs.index(min(total_costs))\n",
    "    action = mvmt_options[min_cost_idx]\n",
    "    \n",
    "    return action\n",
    "    "
   ]
  },
  {
   "cell_type": "markdown",
   "metadata": {},
   "source": [
    "# Part 3 - Evaluating your policy\n",
    "\n",
    "Now that you have the environment and policies, you can simulate runs of your games under different policies and evaluate the reward that particular policies will get upon termination of the environment. \n",
    "\n",
    "To that effect, we will create a function run_single_experiment, which will have as input:\n",
    "- an instance of an environment\n",
    "- a policy\n",
    "\n",
    "And it will return the reward obtained once the environment terminates.\n"
   ]
  },
  {
   "cell_type": "code",
   "execution_count": 976,
   "metadata": {},
   "outputs": [],
   "source": [
    "def get_inital_surr_marks(observations):\n",
    "    initial_obs = []\n",
    "    for l, m in zip([0, 1, 1, 2],[1, 2, 0, 1]):\n",
    "        initial_obs.append(observations[0]['observed'][l][m])\n",
    "    return initial_obs"
   ]
  },
  {
   "cell_type": "code",
   "execution_count": 1046,
   "metadata": {},
   "outputs": [],
   "source": [
    "def run_single_exp(envir, policy):\n",
    "    \n",
    "    obs = envir.reset()\n",
    "    \n",
    "    # Seeting a loop to reset the agent position if it's surrounded by walls\n",
    "    initial_obs = get_inital_surr_marks(obs)\n",
    "\n",
    "    while initial_obs.count(1) == 4:\n",
    "        obs = envir.reset()\n",
    "        initial_obs = get_inital_surr_marks(obs)\n",
    "    \n",
    "    #print(obs)\n",
    "    done = False\n",
    "    action_lst = []\n",
    "    \n",
    "    while not done:\n",
    "        \n",
    "        action = policy(obs, action_lst)\n",
    "        action_lst.append(action)\n",
    "        #print(action)\n",
    "        obs, reward, done = envir.step(action)\n",
    "        #envir.display()\n",
    "\n",
    "    if reward < -90:\n",
    "        envir.display()\n",
    "        print(action_lst)\n",
    "    return reward"
   ]
  },
  {
   "cell_type": "markdown",
   "metadata": {},
   "source": [
    "## Single Run - Basic Policy"
   ]
  },
  {
   "cell_type": "code",
   "execution_count": 664,
   "metadata": {
    "scrolled": false
   },
   "outputs": [
    {
     "name": "stdout",
     "output_type": "stream",
     "text": [
      "Congratulations - You have found the exit! Your score was: 82\n"
     ]
    },
    {
     "data": {
      "text/plain": [
       "82"
      ]
     },
     "execution_count": 664,
     "metadata": {},
     "output_type": "execute_result"
    }
   ],
   "source": [
    "dungeon = Dungeon(10)\n",
    "run_single_exp(dungeon, basic_policy)"
   ]
  },
  {
   "cell_type": "code",
   "execution_count": 1007,
   "metadata": {},
   "outputs": [
    {
     "name": "stdout",
     "output_type": "stream",
     "text": [
      "Gameover - Out of Moves. Your score was: -100\n"
     ]
    },
    {
     "data": {
      "text/plain": [
       "-100"
      ]
     },
     "execution_count": 1007,
     "metadata": {},
     "output_type": "execute_result"
    }
   ],
   "source": [
    "dungeon = Dungeon(10)\n",
    "run_single_exp(dungeon, basic_policy)"
   ]
  },
  {
   "cell_type": "markdown",
   "metadata": {},
   "source": [
    "## Single Run - Random Policy"
   ]
  },
  {
   "cell_type": "code",
   "execution_count": 666,
   "metadata": {},
   "outputs": [
    {
     "name": "stdout",
     "output_type": "stream",
     "text": [
      "Gameover - Out of Moves. Your score was: -300\n"
     ]
    },
    {
     "data": {
      "text/plain": [
       "-300"
      ]
     },
     "execution_count": 666,
     "metadata": {},
     "output_type": "execute_result"
    }
   ],
   "source": [
    "dungeon = Dungeon(10)\n",
    "run_single_exp(dungeon, random_policy)"
   ]
  },
  {
   "cell_type": "code",
   "execution_count": 680,
   "metadata": {},
   "outputs": [
    {
     "name": "stdout",
     "output_type": "stream",
     "text": [
      "Congratulations - You have found the exit! Your score was: 75\n"
     ]
    },
    {
     "data": {
      "text/plain": [
       "75"
      ]
     },
     "execution_count": 680,
     "metadata": {},
     "output_type": "execute_result"
    }
   ],
   "source": [
    "dungeon = Dungeon(10)\n",
    "run_single_exp(dungeon, random_policy)"
   ]
  },
  {
   "cell_type": "markdown",
   "metadata": {},
   "source": [
    "## Single Run - Intelligent Policy"
   ]
  },
  {
   "cell_type": "code",
   "execution_count": 681,
   "metadata": {
    "scrolled": false
   },
   "outputs": [
    {
     "name": "stdout",
     "output_type": "stream",
     "text": [
      "Congratulations - You have found the exit! Your score was: 91\n"
     ]
    },
    {
     "data": {
      "text/plain": [
       "91"
      ]
     },
     "execution_count": 681,
     "metadata": {},
     "output_type": "execute_result"
    }
   ],
   "source": [
    "dungeon = Dungeon(10)\n",
    "run_single_exp(dungeon, intelligent_policy)"
   ]
  },
  {
   "cell_type": "markdown",
   "metadata": {},
   "source": [
    "# Part 3 - Evaluating your policy\n",
    "\n",
    "Now that you can evaluate how a policy performs on a particular environment, consider the following.\n",
    "Because of stochasticity of initial agent position and exit position, different runs will lead to different total rewards.\n",
    "\n",
    "To properly evaluate our policies, we must calculate the statistics over multiple runs.\n",
    "\n",
    "To that effect, we will create a function run_experiments, which will have as input:\n",
    "- an instance of an environment\n",
    "- a policy\n",
    "- a number of times that the experiment will be run\n",
    "\n",
    "It will return the maximum reward obtained over all the runs, the average and variance over the rewards.\n"
   ]
  },
  {
   "cell_type": "code",
   "execution_count": 803,
   "metadata": {},
   "outputs": [],
   "source": [
    "def run_experiments(envir, policy, number_exp):\n",
    "    \n",
    "    all_rewards = []\n",
    "    \n",
    "    for n in range(number_exp):\n",
    "        final_reward = 0\n",
    "        dungeon = Dungeon(10)\n",
    "        final_reward = run_single_exp(envir, policy)\n",
    "        all_rewards.append(final_reward)\n",
    "    \n",
    "    max_reward = max(all_rewards)\n",
    "    mean_reward = mean(all_rewards)\n",
    "    var_reward = var(all_rewards)\n",
    "    \n",
    "    \n",
    "    return max_reward, mean_reward, var_reward, all_rewards\n",
    "    "
   ]
  },
  {
   "cell_type": "code",
   "execution_count": 988,
   "metadata": {
    "scrolled": false
   },
   "outputs": [
    {
     "name": "stdout",
     "output_type": "stream",
     "text": [
      "Maximum Reward - Basic Algo:  99\n",
      "Mean Reward - Basic Algo:  14.2003\n",
      "Variance of Reward - Basic Algo:  6730.32017991\n"
     ]
    }
   ],
   "source": [
    "dungeon = Dungeon(10)\n",
    "max_basic, mean_basic, var_basic, all_runs_basic = run_experiments(dungeon, basic_policy, 10000)\n",
    "print(\"Maximum Reward - Basic Algo: \", max_basic)\n",
    "print(\"Mean Reward - Basic Algo: \", mean_basic)\n",
    "print(\"Variance of Reward - Basic Algo: \", var_basic)"
   ]
  },
  {
   "cell_type": "code",
   "execution_count": 989,
   "metadata": {
    "scrolled": false
   },
   "outputs": [
    {
     "name": "stdout",
     "output_type": "stream",
     "text": [
      "Maximum Reward - Random Algo:  99\n",
      "Mean Reward - Random Algo:  -219.525\n",
      "Variance of Reward - Random Algo:  24708.239374999997\n"
     ]
    }
   ],
   "source": [
    "dungeon = Dungeon(10)\n",
    "max_basic, mean_basic, var_basic, all_runs_random = run_experiments(dungeon, random_policy, 10000)\n",
    "print(\"Maximum Reward - Random Algo: \", max_random)\n",
    "print(\"Mean Reward - Random Algo: \", mean_random)\n",
    "print(\"Variance of Reward - Random Algo: \", var_random)"
   ]
  },
  {
   "cell_type": "code",
   "execution_count": 1040,
   "metadata": {
    "scrolled": false
   },
   "outputs": [
    {
     "name": "stdout",
     "output_type": "stream",
     "text": [
      "Maximum Reward - Intelligent Algo:  99\n",
      "Mean Reward - Intelligent Algo:  89.054\n",
      "Variance of Reward - Intelligent Algo:  892.0488839999999\n"
     ]
    }
   ],
   "source": [
    "dungeon = Dungeon(10)\n",
    "max_int, mean_int, var_int, all_runs_int = run_experiments(dungeon, intelligent_policy, 10000)\n",
    "print(\"Maximum Reward - Intelligent Algo: \", max_int)\n",
    "print(\"Mean Reward - Intelligent Algo: \", mean_int)\n",
    "print(\"Variance of Reward - Intelligent Algo: \", var_int)"
   ]
  },
  {
   "cell_type": "markdown",
   "metadata": {},
   "source": [
    "# Part 4\n",
    "\n",
    "Draw some plots to compare how your different policies perform depending on the environment size.\n",
    "\n",
    "As the environment generation is also stochastic (random obstacles and lava), you might need to compute additional statistics.\n"
   ]
  },
  {
   "cell_type": "code",
   "execution_count": 554,
   "metadata": {},
   "outputs": [
    {
     "data": {
      "text/plain": [
       "1000"
      ]
     },
     "execution_count": 554,
     "metadata": {},
     "output_type": "execute_result"
    }
   ],
   "source": [
    "len(all_rew_lst)"
   ]
  },
  {
   "cell_type": "code",
   "execution_count": 1041,
   "metadata": {},
   "outputs": [],
   "source": [
    "runs_df = pd.DataFrame(all_runs_basic, columns = ['basic']) "
   ]
  },
  {
   "cell_type": "code",
   "execution_count": 1042,
   "metadata": {},
   "outputs": [],
   "source": [
    "runs_df['random'] = all_runs_random\n",
    "runs_df['intell'] = all_runs_int"
   ]
  },
  {
   "cell_type": "code",
   "execution_count": 1043,
   "metadata": {},
   "outputs": [
    {
     "data": {
      "text/html": [
       "<div>\n",
       "<style scoped>\n",
       "    .dataframe tbody tr th:only-of-type {\n",
       "        vertical-align: middle;\n",
       "    }\n",
       "\n",
       "    .dataframe tbody tr th {\n",
       "        vertical-align: top;\n",
       "    }\n",
       "\n",
       "    .dataframe thead th {\n",
       "        text-align: right;\n",
       "    }\n",
       "</style>\n",
       "<table border=\"1\" class=\"dataframe\">\n",
       "  <thead>\n",
       "    <tr style=\"text-align: right;\">\n",
       "      <th></th>\n",
       "      <th>basic</th>\n",
       "      <th>random</th>\n",
       "      <th>intell</th>\n",
       "    </tr>\n",
       "  </thead>\n",
       "  <tbody>\n",
       "    <tr>\n",
       "      <th>0</th>\n",
       "      <td>97</td>\n",
       "      <td>-420</td>\n",
       "      <td>97</td>\n",
       "    </tr>\n",
       "    <tr>\n",
       "      <th>1</th>\n",
       "      <td>-100</td>\n",
       "      <td>-320</td>\n",
       "      <td>99</td>\n",
       "    </tr>\n",
       "    <tr>\n",
       "      <th>2</th>\n",
       "      <td>91</td>\n",
       "      <td>-350</td>\n",
       "      <td>92</td>\n",
       "    </tr>\n",
       "    <tr>\n",
       "      <th>3</th>\n",
       "      <td>-100</td>\n",
       "      <td>-320</td>\n",
       "      <td>93</td>\n",
       "    </tr>\n",
       "    <tr>\n",
       "      <th>4</th>\n",
       "      <td>97</td>\n",
       "      <td>-365</td>\n",
       "      <td>92</td>\n",
       "    </tr>\n",
       "  </tbody>\n",
       "</table>\n",
       "</div>"
      ],
      "text/plain": [
       "   basic  random  intell\n",
       "0     97    -420      97\n",
       "1   -100    -320      99\n",
       "2     91    -350      92\n",
       "3   -100    -320      93\n",
       "4     97    -365      92"
      ]
     },
     "execution_count": 1043,
     "metadata": {},
     "output_type": "execute_result"
    }
   ],
   "source": [
    "runs_df.head()"
   ]
  },
  {
   "cell_type": "code",
   "execution_count": 1044,
   "metadata": {},
   "outputs": [
    {
     "data": {
      "image/png": "[encoded data removed]",
      "text/plain": [
       "<Figure size 1152x360 with 3 Axes>"
      ]
     },
     "metadata": {},
     "output_type": "display_data"
    }
   ],
   "source": [
    "fig, ax = plt.subplots(1, 3, figsize=(16,5))\n",
    "\n",
    "feature_cols = [runs_df.basic, runs_df.random, runs_df.intell]\n",
    "names = ['Basic', 'Random', 'Intelligent']\n",
    "colors = ['teal', 'orchid', 'orange']\n",
    "\n",
    "for i in range(len(feature_cols)):\n",
    "    ax[i].hist(feature_cols[i], color= colors[i], bins=20)\n",
    "    ax[i].set_xlabel(names[i])\n",
    "    ax[i].set_ylabel(\"Count of \" + names[i])\n",
    "    ax[i].set_title(\"Histogram of \"+ names[i] +\"\\n\", fontsize = (16))\n",
    "\n",
    "plt.tight_layout()\n",
    "plt.show()"
   ]
  },
  {
   "cell_type": "code",
   "execution_count": null,
   "metadata": {},
   "outputs": [],
   "source": []
  }
 ],
 "metadata": {
  "kernelspec": {
   "display_name": "Python 3",
   "language": "python",
   "name": "python3"
  },
  "toc": {
   "base_numbering": 1,
   "nav_menu": {},
   "number_sections": true,
   "sideBar": true,
   "skip_h1_title": false,
   "title_cell": "Table of Contents",
   "title_sidebar": "Contents",
   "toc_cell": false,
   "toc_position": {},
   "toc_section_display": true,
   "toc_window_display": false
  }
 },
 "nbformat": 4,
 "nbformat_minor": 4
}
